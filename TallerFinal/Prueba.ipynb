{
 "cells": [
  {
   "cell_type": "code",
   "execution_count": 1,
   "metadata": {},
   "outputs": [
    {
     "name": "stdout",
     "output_type": "stream",
     "text": [
      "Start field is not valid: actual - 0, expected - required \n"
     ]
    }
   ],
   "source": [
    "import requests\n",
    "latitud = \"51.5085\"\n",
    "longitud = \"0.1258\"\n",
    "respuesta2 = requests.get(\"http://api.openweathermap.org/data/2.5/uvi/history?lat=\"+latitud+\"&lon=\"+longitud+\"&appid=048b6950676023fd84ae6f2d40582740\")\n",
    "resp = respuesta2.text\n",
    "\n",
    "print(resp)\n"
   ]
  },
  {
   "cell_type": "code",
   "execution_count": 5,
   "metadata": {},
   "outputs": [
    {
     "name": "stdout",
     "output_type": "stream",
     "text": [
      "{\"error\":\"API key is required.\"}\n",
      "\n"
     ]
    }
   ],
   "source": [
    "end=\"https://api.weatherbit.io/v2.0/forecast/daily?city=Santaigo,cl&days=16&key=048b6950676023fd84ae6f2d40582740\"\n",
    "res = requests.get(end)\n",
    "res2 = res.text\n",
    "print (res2)\n"
   ]
  },
  {
   "cell_type": "code",
   "execution_count": null,
   "metadata": {},
   "outputs": [],
   "source": []
  },
  {
   "cell_type": "code",
   "execution_count": null,
   "metadata": {},
   "outputs": [],
   "source": []
  },
  {
   "cell_type": "code",
   "execution_count": null,
   "metadata": {},
   "outputs": [],
   "source": []
  },
  {
   "cell_type": "code",
   "execution_count": null,
   "metadata": {},
   "outputs": [],
   "source": []
  }
 ],
 "metadata": {
  "kernelspec": {
   "display_name": "Python 3",
   "language": "python",
   "name": "python3"
  },
  "language_info": {
   "codemirror_mode": {
    "name": "ipython",
    "version": 3
   },
   "file_extension": ".py",
   "mimetype": "text/x-python",
   "name": "python",
   "nbconvert_exporter": "python",
   "pygments_lexer": "ipython3",
   "version": "3.7.4"
  }
 },
 "nbformat": 4,
 "nbformat_minor": 2
}
