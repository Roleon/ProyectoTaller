{
 "cells": [
  {
   "cell_type": "markdown",
   "metadata": {},
   "source": [
    "El siguiente Programa consulta una base de datos de películas. La idea principal es poder encontrar la película que uno busca con el nombre completo o sólo una parte del nombre. Con la película identificada por la ID (la ID, permite precisar exactamente \n",
    "la película, usar el nombre puede presentar confusión)se puede hacer lo siguiente:\n",
    "1) Datos de la película\n",
    "2) Comparar la nota promedio por la comunidad de dos películas (Es necesario saber la ID de las dos películas previamente).\n",
    "3) Comparar la duración de dos películas (Es necesario saber la ID de las dos películas previamente).\n",
    "4) Comparar la popularidad de dos películas (Es necesario saber la ID de las dos películas previamente).\n"
   ]
  },
  {
   "cell_type": "code",
   "execution_count": 32,
   "metadata": {
    "scrolled": false
   },
   "outputs": [
    {
     "name": "stdout",
     "output_type": "stream",
     "text": [
      "Ingrese el nombre de la película o parte de el: juego de gemelas\n"
     ]
    },
    {
     "data": {
      "text/html": [
       "<table><tr><td style=\"text-align: left !important\"><b>ID</b></td><td style=\"text-align: left !important\"><b>Película</b></td></tr><tr><td style=\"text-align: left !important\">9820</td><td style=\"text-align: left !important\">Tú a Londres y yo a California</td></tr></table>"
      ],
      "text/plain": [
       "<IPython.core.display.HTML object>"
      ]
     },
     "metadata": {},
     "output_type": "display_data"
    }
   ],
   "source": [
    "import requests, json\n",
    "from IPython.display import HTML, display\n",
    "pelicula = input(\"Ingrese el nombre de la película o parte de el: \")\n",
    "while pelicula == \"\":\n",
    "    pelicula = input(\"Ingrese el nombre de la película o parte de el: \")\n",
    "\n",
    "endpoint = \"http://api.themoviedb.org/3/search/movie?include_adult=false&page=1&query=\"+pelicula+\"&language=es-ES&api_key=3ee58de5ae1041b435c24d7928e8165a\"\n",
    "res = requests.get(endpoint)\n",
    "res1 = res.json()\n",
    "\n",
    "pelis = []\n",
    "for movie in res1[\"results\"]:\n",
    "    pelis.append([movie[\"id\"],movie[\"title\"]])\n",
    "\n",
    "display(HTML(\n",
    "   '<table><tr><td style=\"text-align: left !important\"><b>ID</b></td><td style=\"text-align: left !important\"><b>Película</b></td></tr><tr>{}</tr></table>'.format(\n",
    "       '</tr><tr>'.join(\n",
    "           '<td style=\"text-align: left !important\">{}</td>'.format('</td><td style=\"text-align: left !important\">'.join(str(col) for col in row)) for row in pelis)\n",
    "       )\n",
    "))\n",
    "\n",
    "lista = open(\"Lista.txt\", \"w\")\n",
    "lista.write(json.dumps(pelis))\n",
    "lista.close()"
   ]
  },
  {
   "cell_type": "code",
   "execution_count": 33,
   "metadata": {},
   "outputs": [
    {
     "name": "stdout",
     "output_type": "stream",
     "text": [
      "Ingrese la ID de la película para obtener más información: 9820\n"
     ]
    },
    {
     "data": {
      "text/html": [
       "<table><tr><td style=\"text-align: left !important\"><b>Campo</b></td><td style=\"text-align: left !important\"><b>Detalle</b></td></tr><tr><td style=\"text-align: left !important\">Nombre</td><td style=\"text-align: left !important\">Tú a Londres y yo a California</td></tr><tr><td style=\"text-align: left !important\">Fecha lanzamiento</td><td style=\"text-align: left !important\">1998-07-28</td></tr><tr><td style=\"text-align: left !important\">Duración (min)</td><td style=\"text-align: left !important\">127</td></tr><tr><td style=\"text-align: left !important\">Presupuesto</td><td style=\"text-align: left !important\">0</td></tr><tr><td style=\"text-align: left !important\">Sinopsis</td><td style=\"text-align: left !important\">Hallie y Annie, dos gemelas que se parecen como dos gotas de agua, fueron separadas poco después de nacer, a causa del divorcio de sus padres. Hallie vive en Napa Valley con su padre, que es viticultor. Por su parte, Annie vive en Londres con su madre, una famosa diseñadora de trajes de novia. Ninguna de las dos conoce la existencia de la otra, pero el destino hace que se encuentren por casualidad en Maine, en un campamento de verano. Antes de volver a casa, las niñas urden un plan para conseguir reunir a sus padres, pero hay un inconveniente con el que no contaban: su padre proyecta casarse con otra mujer. (FILMAFFINITY)</td></tr><tr><td style=\"text-align: left !important\">Ganancias</td><td style=\"text-align: left !important\">0</td></tr><tr><td style=\"text-align: left !important\">País</td><td style=\"text-align: left !important\">United States of America</td></tr><tr><td style=\"text-align: left !important\">Idioma Original</td><td style=\"text-align: left !important\">English</td></tr><tr><td style=\"text-align: left !important\">Popularidad</td><td style=\"text-align: left !important\">16.261</td></tr><tr><td style=\"text-align: left !important\">Nota Promedio</td><td style=\"text-align: left !important\">7.0</td></tr><tr><td style=\"text-align: left !important\">Cantidad de votos</td><td style=\"text-align: left !important\">1904</td></tr><tr><td style=\"text-align: left !important\">Generos</td><td style=\"text-align: left !important\">Comedia, Familia, </td></tr></table>"
      ],
      "text/plain": [
       "<IPython.core.display.HTML object>"
      ]
     },
     "metadata": {},
     "output_type": "display_data"
    }
   ],
   "source": [
    "import requests\n",
    "id = input(\"Ingrese la ID de la película para obtener más información: \")\n",
    "while id == \"\":\n",
    "    id = input(\"Ingrese la ID de la película para obtener más información: \")\n",
    "\n",
    "endpoint2 = \"https://api.themoviedb.org/3/movie/\"+id+\"?api_key=3ee58de5ae1041b435c24d7928e8165a&language=es-ES\"\n",
    "res2 = requests.get(endpoint2)\n",
    "res3 = res2.json()\n",
    "\n",
    "detalle = [\n",
    "    [\"Nombre\", res3[\"title\"]],\n",
    "    [\"Fecha lanzamiento\", res3[\"release_date\"]],\n",
    "    [\"Duración (min)\", res3[\"runtime\"]],\n",
    "    [\"Presupuesto\", res3[\"budget\"]],\n",
    "    [\"Sinopsis\", res3[\"overview\"]],\n",
    "    [\"Ganancias\", res3[\"revenue\"]],\n",
    "    [\"País\", res3[\"production_countries\"][0][\"name\"]],\n",
    "    [\"Idioma Original\", res3[\"spoken_languages\"][0][\"name\"]],\n",
    "    [\"Popularidad\", res3[\"popularity\"]],\n",
    "    [\"Nota Promedio\", res3[\"vote_average\"]],\n",
    "    [\"Cantidad de votos\", res3[\"vote_count\"]]\n",
    "]\n",
    "\n",
    "generos = \"\"\n",
    "\n",
    "for genero in res3[\"genres\"]:\n",
    "    generos += genero[\"name\"] + \", \"\n",
    "\n",
    "detalle.append([\"Generos\", generos])\n",
    "\n",
    "display(HTML(\n",
    "   '<table><tr><td style=\"text-align: left !important\"><b>Campo</b></td><td style=\"text-align: left !important\"><b>Detalle</b></td></tr><tr>{}</tr></table>'.format(\n",
    "       '</tr><tr>'.join(\n",
    "           '<td style=\"text-align: left !important\">{}</td>'.format('</td><td style=\"text-align: left !important\">'.join(str(col) for col in row)) for row in detalle)\n",
    "       )\n",
    "))\n",
    "\n",
    "with open(\"Detalle.txt\", \"w\") as f:\n",
    "    json.dump(detalle, f)"
   ]
  },
  {
   "cell_type": "code",
   "execution_count": 37,
   "metadata": {},
   "outputs": [
    {
     "name": "stdout",
     "output_type": "stream",
     "text": [
      "Ingrese la ID de la primera película: 11\n",
      "Ingrese la ID de la segunda película: 63\n",
      "La película La guerra de las galaxias. Episodio IV: Una nueva esperanza tiene una nota promedio de: 8.2\n",
      "La película 12 monos tiene una nota promedio de: 7.6\n",
      "La pelicula La guerra de las galaxias. Episodio IV: Una nueva esperanza tiene mejor nota promedio que la película 12 monos\n"
     ]
    }
   ],
   "source": [
    "import requests\n",
    "id1 = input(\"Ingrese la ID de la primera película: \")\n",
    "while id1 == \"\":\n",
    "    id1 = input(\"Ingrese la ID de la primera película: \")\n",
    "id2 = input(\"Ingrese la ID de la segunda película: \")\n",
    "while id2 == \"\":\n",
    "    id2 = input(\"Ingrese la ID de la primera película: \")\n",
    "endpoint3 = \"https://api.themoviedb.org/3/movie/\"+id1+\"?api_key=3ee58de5ae1041b435c24d7928e8165a&language=es-ES\"\n",
    "res4 = requests.get(endpoint3)\n",
    "res5 = res4.json()\n",
    "endpoint4 = \"https://api.themoviedb.org/3/movie/\"+id2+\"?api_key=3ee58de5ae1041b435c24d7928e8165a&language=es-ES\"\n",
    "res6 = requests.get(endpoint4)\n",
    "res7 = res6.json()\n",
    "\n",
    "code5 = res5.get(\"status_code\", None)\n",
    "code7 = res7.get(\"status_code\", None)\n",
    "\n",
    "    \n",
    "while code5 is not None or code7 is not None:\n",
    "    print(\"Ingresaste datos erroneos\")\n",
    "    id1 = input(\"Ingrese la ID de la primera película: \")\n",
    "    while id1 == \"\":\n",
    "        id1 = input(\"Ingrese la ID de la primera película: \")\n",
    "    id2 = input(\"Ingrese la ID de la segunda película: \")\n",
    "    while id2 == \"\":\n",
    "        id2 = input(\"Ingrese la ID de la primera película: \")\n",
    "    endpoint3 = \"https://api.themoviedb.org/3/movie/\"+id1+\"?api_key=3ee58de5ae1041b435c24d7928e8165a&language=es-ES\"\n",
    "    res4 = requests.get(endpoint3)\n",
    "    res5 = res4.json()\n",
    "    endpoint4 = \"https://api.themoviedb.org/3/movie/\"+id2+\"?api_key=3ee58de5ae1041b435c24d7928e8165a&language=es-ES\"\n",
    "    res6 = requests.get(endpoint4)\n",
    "    res7 = res6.json()\n",
    "    \n",
    "    code5 = res5.get(\"status_code\", None)\n",
    "    code7 = res7.get(\"status_code\", None)\n",
    "\n",
    "\n",
    "puntuacion1= res5[\"vote_average\"]\n",
    "puntuacion2= res7[\"vote_average\"]\n",
    "\n",
    "print(\"La película\", res5[\"title\"], \"tiene una nota promedio de:\", res5[\"vote_average\"])\n",
    "print(\"La película\", res7[\"title\"], \"tiene una nota promedio de:\", res7[\"vote_average\"])\n",
    "\n",
    "if puntuacion1 > puntuacion2:\n",
    "    sol1= \"La pelicula \"+ res5[\"title\"]+ \" tiene mejor nota promedio que la película \"+ res7[\"title\"]\n",
    "    print(sol1)\n",
    "    nota1 = open(\"Nota Promedio.txt\", \"w\")\n",
    "    nota1.write(sol1)\n",
    "    nota1.close()\n",
    "else:\n",
    "    sol2 = \"La pelicula \"+ res7[\"title\"]+ \" tiene mejor nota promedio que la película \"+ res5[\"title\"]\n",
    "    print(sol2)\n",
    "    nota2 = open(\"Nota Promedio.txt\", \"w\")\n",
    "    nota2.write(sol2)\n",
    "    nota2.close()\n"
   ]
  },
  {
   "cell_type": "code",
   "execution_count": 39,
   "metadata": {},
   "outputs": [
    {
     "name": "stdout",
     "output_type": "stream",
     "text": [
      "Ingrese la ID de la primera película: a\n",
      "Ingrese la ID de la segunda película: a\n",
      "Ingresaste datos erroneos\n",
      "Ingrese la ID de la primera película: 11\n",
      "Ingrese la ID de la segunda película: 63\n",
      "La película La guerra de las galaxias. Episodio IV: Una nueva esperanza tiene una duración en minutos de: 121\n",
      "La película 12 monos tiene una duración en minutos de: 130\n",
      "La pelicula 12 monos tiene una duración mayor que La guerra de las galaxias. Episodio IV: Una nueva esperanza\n"
     ]
    }
   ],
   "source": [
    "id3 = input(\"Ingrese la ID de la primera película: \")\n",
    "while id3 == \"\":\n",
    "    id3 = input(\"Ingrese la ID de la primera película: \")\n",
    "id4 = input(\"Ingrese la ID de la segunda película: \")\n",
    "while id4 == \"\":\n",
    "    id4 = input(\"Ingrese la ID de la segunda película: \")\n",
    "endpoint5 = \"https://api.themoviedb.org/3/movie/\"+id3+\"?api_key=3ee58de5ae1041b435c24d7928e8165a&language=es-ES\"\n",
    "res8 = requests.get(endpoint5)\n",
    "res9 = res8.json()\n",
    "endpoint6 = \"https://api.themoviedb.org/3/movie/\"+id4+\"?api_key=3ee58de5ae1041b435c24d7928e8165a&language=es-ES\"\n",
    "res10 = requests.get(endpoint6)\n",
    "res11 = res10.json()\n",
    "\n",
    "code9 = res5.get(\"status_code\", None)\n",
    "code11 = res11.get(\"status_code\", None)\n",
    "\n",
    "    \n",
    "while code9 is not None or code11 is not None:\n",
    "    print(\"Ingresaste datos erroneos\")\n",
    "    id3 = input(\"Ingrese la ID de la primera película: \")\n",
    "    while id3 == \"\":\n",
    "        id3 = input(\"Ingrese la ID de la primera película: \")\n",
    "    id4 = input(\"Ingrese la ID de la segunda película: \")\n",
    "    while id4 == \"\":\n",
    "        id4 = input(\"Ingrese la ID de la segunda película: \")\n",
    "    endpoint5 = \"https://api.themoviedb.org/3/movie/\"+id3+\"?api_key=3ee58de5ae1041b435c24d7928e8165a&language=es-ES\"\n",
    "    res8 = requests.get(endpoint5)\n",
    "    res9 = res8.json()\n",
    "    endpoint6 = \"https://api.themoviedb.org/3/movie/\"+id4+\"?api_key=3ee58de5ae1041b435c24d7928e8165a&language=es-ES\"\n",
    "    res10 = requests.get(endpoint6)\n",
    "    res11 = res10.json()\n",
    "\n",
    "    code9 = res5.get(\"status_code\", None)\n",
    "    code11 = res11.get(\"status_code\", None)\n",
    "\n",
    "\n",
    "duracion1= res9[\"runtime\"]\n",
    "duracion2= res11[\"runtime\"]\n",
    "\n",
    "print(\"La película\", res9[\"title\"], \"tiene una duración en minutos de:\", res9[\"runtime\"])\n",
    "print(\"La película\", res11[\"title\"], \"tiene una duración en minutos de:\", res11[\"runtime\"])\n",
    "\n",
    "if duracion1 > duracion2:\n",
    "    dur1 = \"La pelicula \"+ res9[\"title\"]+ \" tiene una duración mayor que \"+ res11[\"title\"]\n",
    "    print(dur1)\n",
    "    duracion1 = open(\"Duración.txt\", \"w\")\n",
    "    duracion1.write(dur1)\n",
    "    duracion1.close()\n",
    "else:\n",
    "    dur2 = \"La pelicula \"+ res11[\"title\"]+ \" tiene una duración mayor que \"+ res9[\"title\"]\n",
    "    print(dur2)\n",
    "    duracion2 = open(\"Duración.txt\", \"w\")\n",
    "    duracion2.write(dur2)\n",
    "    duracion2.close()"
   ]
  },
  {
   "cell_type": "code",
   "execution_count": 41,
   "metadata": {},
   "outputs": [
    {
     "name": "stdout",
     "output_type": "stream",
     "text": [
      "Ingrese la ID de la primera película: 11\n",
      "Ingrese la ID de la segunda película: 63\n",
      "La película La guerra de las galaxias. Episodio IV: Una nueva esperanza tiene una popularidad de: 48.677\n",
      "La película 12 monos tiene una popularidad de: 17.833\n",
      "La pelicula La guerra de las galaxias. Episodio IV: Una nueva esperanza es más popular que 12 monos\n"
     ]
    }
   ],
   "source": [
    "id5 = input(\"Ingrese la ID de la primera película: \")\n",
    "while id5 == \"\":\n",
    "    id5 = input(\"Ingrese la ID de la primera película: \")\n",
    "id6 = input(\"Ingrese la ID de la segunda película: \")\n",
    "while id6 == \"\":\n",
    "    id6 = input(\"Ingrese la ID de la segunda película: \")\n",
    "endpoint6 = \"https://api.themoviedb.org/3/movie/\"+id5+\"?api_key=3ee58de5ae1041b435c24d7928e8165a&language=es-ES\"\n",
    "res12 = requests.get(endpoint6)\n",
    "res13 = res12.json()\n",
    "endpoint6 = \"https://api.themoviedb.org/3/movie/\"+id6+\"?api_key=3ee58de5ae1041b435c24d7928e8165a&language=es-ES\"\n",
    "res14 = requests.get(endpoint4)\n",
    "res15 = res14.json()\n",
    "\n",
    "code13 = res13.get(\"status_code\", None)\n",
    "code15 = res15.get(\"status_code\", None)\n",
    "\n",
    "    \n",
    "while code13 is not None or code15 is not None:\n",
    "    id5 = input(\"Ingrese la ID de la primera película: \")\n",
    "    while id5 == \"\":\n",
    "        id5 = input(\"Ingrese la ID de la primera película: \")\n",
    "    id6 = input(\"Ingrese la ID de la segunda película: \")\n",
    "    while id6 == \"\":\n",
    "        id6 = input(\"Ingrese la ID de la segunda película: \")\n",
    "    endpoint6 = \"https://api.themoviedb.org/3/movie/\"+id5+\"?api_key=3ee58de5ae1041b435c24d7928e8165a&language=es-ES\"\n",
    "    res12 = requests.get(endpoint6)\n",
    "    res13 = res12.json()\n",
    "    endpoint6 = \"https://api.themoviedb.org/3/movie/\"+id6+\"?api_key=3ee58de5ae1041b435c24d7928e8165a&language=es-ES\"\n",
    "    res14 = requests.get(endpoint4)\n",
    "    res15 = res14.json()\n",
    "\n",
    "popularidad1= res13[\"popularity\"]\n",
    "popularidad2= res15[\"popularity\"]\n",
    "\n",
    "print(\"La película\", res13[\"title\"], \"tiene una popularidad de:\", res13[\"popularity\"])\n",
    "print(\"La película\", res15[\"title\"], \"tiene una popularidad de:\", res15[\"popularity\"])\n",
    "\n",
    "if popularidad1 > popularidad2:\n",
    "    pop1 = \"La pelicula \"+ res13[\"title\"]+ \" es más popular que \"+ res15[\"title\"]\n",
    "    print(pop1)\n",
    "    popularidad1 = open(\"Popularidad.txt\", \"w\")\n",
    "    popularidad1.write(pop1)\n",
    "    popularidad1.close()\n",
    "else:\n",
    "    pop2 = \"La pelicula \"+ res15[\"title\"]+ \" es más popular que \"+ res13[\"title\"]\n",
    "    print(pop2)\n",
    "    popularidad2 = open(\"Popularidad.txt\", \"w\")\n",
    "    popularidad2.write(pop2)\n",
    "    popularidad2.close()"
   ]
  },
  {
   "cell_type": "code",
   "execution_count": null,
   "metadata": {},
   "outputs": [],
   "source": []
  },
  {
   "cell_type": "code",
   "execution_count": null,
   "metadata": {},
   "outputs": [],
   "source": []
  },
  {
   "cell_type": "code",
   "execution_count": null,
   "metadata": {},
   "outputs": [],
   "source": []
  },
  {
   "cell_type": "code",
   "execution_count": null,
   "metadata": {},
   "outputs": [],
   "source": []
  },
  {
   "cell_type": "code",
   "execution_count": null,
   "metadata": {},
   "outputs": [],
   "source": []
  },
  {
   "cell_type": "code",
   "execution_count": null,
   "metadata": {},
   "outputs": [],
   "source": []
  },
  {
   "cell_type": "code",
   "execution_count": null,
   "metadata": {},
   "outputs": [],
   "source": []
  },
  {
   "cell_type": "code",
   "execution_count": null,
   "metadata": {},
   "outputs": [],
   "source": []
  },
  {
   "cell_type": "code",
   "execution_count": null,
   "metadata": {},
   "outputs": [],
   "source": []
  },
  {
   "cell_type": "code",
   "execution_count": null,
   "metadata": {},
   "outputs": [],
   "source": []
  },
  {
   "cell_type": "code",
   "execution_count": null,
   "metadata": {},
   "outputs": [],
   "source": []
  },
  {
   "cell_type": "code",
   "execution_count": null,
   "metadata": {},
   "outputs": [],
   "source": []
  },
  {
   "cell_type": "code",
   "execution_count": null,
   "metadata": {},
   "outputs": [],
   "source": []
  },
  {
   "cell_type": "code",
   "execution_count": null,
   "metadata": {},
   "outputs": [],
   "source": []
  },
  {
   "cell_type": "code",
   "execution_count": null,
   "metadata": {},
   "outputs": [],
   "source": []
  },
  {
   "cell_type": "code",
   "execution_count": null,
   "metadata": {},
   "outputs": [],
   "source": []
  },
  {
   "cell_type": "code",
   "execution_count": null,
   "metadata": {},
   "outputs": [],
   "source": []
  },
  {
   "cell_type": "code",
   "execution_count": null,
   "metadata": {},
   "outputs": [],
   "source": []
  },
  {
   "cell_type": "code",
   "execution_count": null,
   "metadata": {},
   "outputs": [],
   "source": []
  },
  {
   "cell_type": "code",
   "execution_count": null,
   "metadata": {},
   "outputs": [],
   "source": []
  },
  {
   "cell_type": "code",
   "execution_count": null,
   "metadata": {},
   "outputs": [],
   "source": []
  },
  {
   "cell_type": "code",
   "execution_count": null,
   "metadata": {},
   "outputs": [],
   "source": []
  },
  {
   "cell_type": "code",
   "execution_count": null,
   "metadata": {},
   "outputs": [],
   "source": []
  },
  {
   "cell_type": "code",
   "execution_count": null,
   "metadata": {},
   "outputs": [],
   "source": []
  },
  {
   "cell_type": "code",
   "execution_count": null,
   "metadata": {},
   "outputs": [],
   "source": []
  },
  {
   "cell_type": "code",
   "execution_count": null,
   "metadata": {},
   "outputs": [],
   "source": []
  },
  {
   "cell_type": "code",
   "execution_count": null,
   "metadata": {},
   "outputs": [],
   "source": []
  },
  {
   "cell_type": "code",
   "execution_count": null,
   "metadata": {},
   "outputs": [],
   "source": []
  },
  {
   "cell_type": "code",
   "execution_count": null,
   "metadata": {},
   "outputs": [],
   "source": []
  },
  {
   "cell_type": "code",
   "execution_count": null,
   "metadata": {},
   "outputs": [],
   "source": []
  },
  {
   "cell_type": "code",
   "execution_count": null,
   "metadata": {},
   "outputs": [],
   "source": []
  },
  {
   "cell_type": "code",
   "execution_count": null,
   "metadata": {},
   "outputs": [],
   "source": []
  },
  {
   "cell_type": "code",
   "execution_count": null,
   "metadata": {},
   "outputs": [],
   "source": []
  },
  {
   "cell_type": "code",
   "execution_count": null,
   "metadata": {},
   "outputs": [],
   "source": []
  },
  {
   "cell_type": "code",
   "execution_count": null,
   "metadata": {},
   "outputs": [],
   "source": []
  },
  {
   "cell_type": "code",
   "execution_count": null,
   "metadata": {},
   "outputs": [],
   "source": []
  },
  {
   "cell_type": "code",
   "execution_count": null,
   "metadata": {},
   "outputs": [],
   "source": []
  },
  {
   "cell_type": "code",
   "execution_count": null,
   "metadata": {},
   "outputs": [],
   "source": []
  },
  {
   "cell_type": "code",
   "execution_count": null,
   "metadata": {},
   "outputs": [],
   "source": []
  },
  {
   "cell_type": "code",
   "execution_count": null,
   "metadata": {},
   "outputs": [],
   "source": []
  },
  {
   "cell_type": "code",
   "execution_count": null,
   "metadata": {},
   "outputs": [],
   "source": []
  },
  {
   "cell_type": "code",
   "execution_count": null,
   "metadata": {},
   "outputs": [],
   "source": []
  },
  {
   "cell_type": "code",
   "execution_count": null,
   "metadata": {},
   "outputs": [],
   "source": []
  },
  {
   "cell_type": "code",
   "execution_count": null,
   "metadata": {},
   "outputs": [],
   "source": []
  },
  {
   "cell_type": "code",
   "execution_count": null,
   "metadata": {},
   "outputs": [],
   "source": []
  },
  {
   "cell_type": "code",
   "execution_count": null,
   "metadata": {},
   "outputs": [],
   "source": []
  },
  {
   "cell_type": "code",
   "execution_count": null,
   "metadata": {},
   "outputs": [],
   "source": []
  },
  {
   "cell_type": "code",
   "execution_count": null,
   "metadata": {},
   "outputs": [],
   "source": []
  },
  {
   "cell_type": "code",
   "execution_count": null,
   "metadata": {},
   "outputs": [],
   "source": []
  },
  {
   "cell_type": "code",
   "execution_count": null,
   "metadata": {},
   "outputs": [],
   "source": []
  },
  {
   "cell_type": "code",
   "execution_count": null,
   "metadata": {},
   "outputs": [],
   "source": []
  },
  {
   "cell_type": "code",
   "execution_count": null,
   "metadata": {},
   "outputs": [],
   "source": []
  },
  {
   "cell_type": "code",
   "execution_count": null,
   "metadata": {},
   "outputs": [],
   "source": []
  },
  {
   "cell_type": "code",
   "execution_count": null,
   "metadata": {},
   "outputs": [],
   "source": []
  },
  {
   "cell_type": "code",
   "execution_count": null,
   "metadata": {},
   "outputs": [],
   "source": []
  },
  {
   "cell_type": "code",
   "execution_count": null,
   "metadata": {},
   "outputs": [],
   "source": []
  },
  {
   "cell_type": "code",
   "execution_count": null,
   "metadata": {},
   "outputs": [],
   "source": []
  },
  {
   "cell_type": "code",
   "execution_count": null,
   "metadata": {},
   "outputs": [],
   "source": []
  },
  {
   "cell_type": "code",
   "execution_count": null,
   "metadata": {},
   "outputs": [],
   "source": []
  },
  {
   "cell_type": "code",
   "execution_count": null,
   "metadata": {},
   "outputs": [],
   "source": []
  },
  {
   "cell_type": "code",
   "execution_count": null,
   "metadata": {},
   "outputs": [],
   "source": []
  },
  {
   "cell_type": "code",
   "execution_count": null,
   "metadata": {},
   "outputs": [],
   "source": []
  },
  {
   "cell_type": "code",
   "execution_count": null,
   "metadata": {},
   "outputs": [],
   "source": []
  },
  {
   "cell_type": "code",
   "execution_count": null,
   "metadata": {},
   "outputs": [],
   "source": []
  },
  {
   "cell_type": "code",
   "execution_count": null,
   "metadata": {},
   "outputs": [],
   "source": []
  },
  {
   "cell_type": "code",
   "execution_count": null,
   "metadata": {},
   "outputs": [],
   "source": []
  },
  {
   "cell_type": "code",
   "execution_count": null,
   "metadata": {},
   "outputs": [],
   "source": []
  },
  {
   "cell_type": "code",
   "execution_count": null,
   "metadata": {},
   "outputs": [],
   "source": []
  },
  {
   "cell_type": "code",
   "execution_count": null,
   "metadata": {},
   "outputs": [],
   "source": []
  },
  {
   "cell_type": "code",
   "execution_count": null,
   "metadata": {},
   "outputs": [],
   "source": []
  },
  {
   "cell_type": "code",
   "execution_count": null,
   "metadata": {},
   "outputs": [],
   "source": []
  },
  {
   "cell_type": "code",
   "execution_count": null,
   "metadata": {},
   "outputs": [],
   "source": []
  },
  {
   "cell_type": "code",
   "execution_count": null,
   "metadata": {},
   "outputs": [],
   "source": []
  },
  {
   "cell_type": "code",
   "execution_count": null,
   "metadata": {},
   "outputs": [],
   "source": []
  },
  {
   "cell_type": "code",
   "execution_count": null,
   "metadata": {},
   "outputs": [],
   "source": []
  }
 ],
 "metadata": {
  "kernelspec": {
   "display_name": "Python 3",
   "language": "python",
   "name": "python3"
  },
  "language_info": {
   "codemirror_mode": {
    "name": "ipython",
    "version": 3
   },
   "file_extension": ".py",
   "mimetype": "text/x-python",
   "name": "python",
   "nbconvert_exporter": "python",
   "pygments_lexer": "ipython3",
   "version": "3.7.4"
  }
 },
 "nbformat": 4,
 "nbformat_minor": 2
}
